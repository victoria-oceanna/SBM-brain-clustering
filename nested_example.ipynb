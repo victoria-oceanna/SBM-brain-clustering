{
 "cells": [
  {
   "cell_type": "code",
   "execution_count": null,
   "id": "e611f26b",
   "metadata": {},
   "outputs": [
    {
     "name": "stdout",
     "output_type": "stream",
     "text": [
      "Data directory:/home/daoutidi/shared/new_adj/\n",
      "Current run: min_med_conn_run\n",
      "Number of iterations set to 10\n",
      "Number of files in file list: 5955\n",
      "Number of subjects: 5251\n"
     ]
    },
    {
     "name": "stderr",
     "output_type": "stream",
     "text": [
      "[Parallel(n_jobs=3)]: Using backend LokyBackend with 3 concurrent workers.\n",
      "[Parallel(n_jobs=3)]: Done   1 tasks      | elapsed:  3.2min\n"
     ]
    }
   ],
   "source": [
    "from scipy.io import loadmat\n",
    "import numpy as np\n",
    "import graph_tool as gt\n",
    "from graph_tool import inference\n",
    "from pytictoc import TicToc\n",
    "from joblib import Parallel, delayed\n",
    "from readFile import *\n",
    "from SBMs import *\n",
    "import config\n",
    "\n",
    "#set global variables from config\n",
    "choose_run = config.choose_run\n",
    "iterations = config.iterations\n",
    "directory = config.loc\n",
    "runs = config.runs\n",
    "subject_list = config.subject_list\n",
    "\n",
    "#set up function for parallelization\n",
    "def obtain_nested_partition(i, iterations):\n",
    "    \n",
    "    adj = loadmat(subject_list[i])\n",
    "    PC = runs[i]\n",
    "    adj = adj['network_adjacency'][0][PC][0][0]['adjacency'][0]['adjacency'][0]\n",
    "    partition = nested_SBM(adj, iterations)\n",
    "\n",
    "    return partition\n",
    "\n",
    "#initialize timing\n",
    "t = TicToc()\n",
    "t.tic()\n",
    "\n",
    "#set range for desired indices within full dataset\n",
    "start_index = 0\n",
    "end_index = 3\n",
    "\n",
    "#set number of available cores for parallelization\n",
    "cores = 3\n",
    "\n",
    "#parallelize according to number of available cores - verbose for job updates\n",
    "results = Parallel(n_jobs=cores, verbose = 30, timeout = 30000)(delayed(obtain_nested_partition)(i, iterations) for i in range(start_index,end_index))\n",
    "\n",
    "#end timing\n",
    "t.toc()\n",
    "\n",
    "#choose file name\n",
    "file_name = \"example_nested.csv\"\n",
    "\n",
    "#save results as csv - each row within csv file corresponds to a different subject and each column (of 1088) is the node of corresponding index\n",
    "np.savetxt(file_name, results, delimiter=',')"
   ]
  },
  {
   "cell_type": "code",
   "execution_count": null,
   "id": "f12cf039",
   "metadata": {},
   "outputs": [],
   "source": []
  },
  {
   "cell_type": "code",
   "execution_count": null,
   "id": "ca6481b1",
   "metadata": {},
   "outputs": [],
   "source": []
  }
 ],
 "metadata": {
  "kernelspec": {
   "display_name": "using_graph_tool",
   "language": "python",
   "name": "using_graph_tool"
  },
  "language_info": {
   "codemirror_mode": {
    "name": "ipython",
    "version": 3
   },
   "file_extension": ".py",
   "mimetype": "text/x-python",
   "name": "python",
   "nbconvert_exporter": "python",
   "pygments_lexer": "ipython3",
   "version": "3.9.4"
  }
 },
 "nbformat": 4,
 "nbformat_minor": 5
}
